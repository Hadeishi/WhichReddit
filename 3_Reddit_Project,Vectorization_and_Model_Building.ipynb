{
 "cells": [
  {
   "cell_type": "markdown",
   "metadata": {
    "focus": false,
    "id": "69b9a648-bcc7-490d-9f9b-ea244d156bd6",
    "nbpresent": {
     "id": "43123d5d-dbb6-42e8-ac2e-d067c29c7126"
    }
   },
   "source": [
    "# Using Reddit's API for Predicting WhichSubreddit?\n",
    "## Notebook 3:  Vectorization and Model Building"
   ]
  },
  {
   "cell_type": "markdown",
   "metadata": {},
   "source": [
    "#### Post data analyzed at the word level. All of data analyzed to see how peripheral aspects of Text vectorized using Tfidf Vectorizer (text frequency controlled for by accounting for word frequency in the entire corpus). Vectorized text first split into 75% of the data to be used to create models and 25% of the data to be used to test models.\n",
    "\n",
    "#### Five models then built to predict which subreddit a given post comes from (datascience or genetics):  logistic regression, K Nearest Neighbors, Decision Tree, Random Forests, and Adaboost. Models were scored based on accuracy using both the training data and the test data; individual comments made below each model. These results, along with the numbers of misclassification errors of both types (how many genetics posts misclassified as datascience posts and vice versa). These results are displayed in a table for your convenience. Possible future research directions also outlined (see below)."
   ]
  },
  {
   "cell_type": "code",
   "execution_count": 1,
   "metadata": {
    "nbpresent": {
     "id": "63036e7e-a78a-48f7-a308-3fa9d39f4ac1"
    }
   },
   "outputs": [
    {
     "name": "stderr",
     "output_type": "stream",
     "text": [
      "/Users/yukiharuhadeishi/anaconda3/lib/python3.6/site-packages/sklearn/cross_validation.py:41: DeprecationWarning: This module was deprecated in version 0.18 in favor of the model_selection module into which all the refactored classes and functions are moved. Also note that the interface of the new CV iterators are different from that of this module. This module will be removed in 0.20.\n",
      "  \"This module will be removed in 0.20.\", DeprecationWarning)\n"
     ]
    }
   ],
   "source": [
    "import requests\n",
    "import time\n",
    "import pandas as pd\n",
    "import seaborn as sb\n",
    "from sklearn.feature_extraction.text import TfidfVectorizer\n",
    "from sklearn.model_selection import train_test_split\n",
    "from sklearn.cross_validation import cross_val_score, cross_val_predict\n",
    "from sklearn import metrics\n",
    "from sklearn.linear_model import LogisticRegression\n",
    "from sklearn.metrics import confusion_matrix\n",
    "import numpy as np"
   ]
  },
  {
   "cell_type": "markdown",
   "metadata": {},
   "source": [
    "#### Text of posts and other features now ready for preprocessing and model building"
   ]
  },
  {
   "cell_type": "code",
   "execution_count": 2,
   "metadata": {},
   "outputs": [],
   "source": [
    "np.random.seed(42)"
   ]
  },
  {
   "cell_type": "code",
   "execution_count": 3,
   "metadata": {},
   "outputs": [],
   "source": [
    "X_features_df = pd.read_csv('../data/X_features_df3.csv', index_col = 0)"
   ]
  },
  {
   "cell_type": "code",
   "execution_count": 4,
   "metadata": {},
   "outputs": [
    {
     "data": {
      "text/plain": [
       "(1866, 6)"
      ]
     },
     "execution_count": 4,
     "metadata": {},
     "output_type": "execute_result"
    }
   ],
   "source": [
    "X_features_df.shape"
   ]
  },
  {
   "cell_type": "code",
   "execution_count": 5,
   "metadata": {},
   "outputs": [],
   "source": [
    "X_features_df['subreddit_boolean'] = X_features_df['subreddit'] == 'datascience'"
   ]
  },
  {
   "cell_type": "code",
   "execution_count": 6,
   "metadata": {},
   "outputs": [
    {
     "data": {
      "text/html": [
       "<div>\n",
       "<style scoped>\n",
       "    .dataframe tbody tr th:only-of-type {\n",
       "        vertical-align: middle;\n",
       "    }\n",
       "\n",
       "    .dataframe tbody tr th {\n",
       "        vertical-align: top;\n",
       "    }\n",
       "\n",
       "    .dataframe thead th {\n",
       "        text-align: right;\n",
       "    }\n",
       "</style>\n",
       "<table border=\"1\" class=\"dataframe\">\n",
       "  <thead>\n",
       "    <tr style=\"text-align: right;\">\n",
       "      <th></th>\n",
       "      <th>author</th>\n",
       "      <th>created_utc</th>\n",
       "      <th>id</th>\n",
       "      <th>num_comments</th>\n",
       "      <th>subreddit</th>\n",
       "      <th>text</th>\n",
       "      <th>subreddit_boolean</th>\n",
       "    </tr>\n",
       "  </thead>\n",
       "  <tbody>\n",
       "    <tr>\n",
       "      <th>0</th>\n",
       "      <td>Omega037</td>\n",
       "      <td>1.526405e+09</td>\n",
       "      <td>8jneyb</td>\n",
       "      <td>40</td>\n",
       "      <td>datascience</td>\n",
       "      <td>mod team decided would nice put together list ...</td>\n",
       "      <td>True</td>\n",
       "    </tr>\n",
       "    <tr>\n",
       "      <th>1</th>\n",
       "      <td>Omega037</td>\n",
       "      <td>1.527209e+09</td>\n",
       "      <td>8lxn0s</td>\n",
       "      <td>71</td>\n",
       "      <td>datascience</td>\n",
       "      <td>welcome week entering amp transitioning thread...</td>\n",
       "      <td>True</td>\n",
       "    </tr>\n",
       "    <tr>\n",
       "      <th>2</th>\n",
       "      <td>gagejustins</td>\n",
       "      <td>1.527793e+09</td>\n",
       "      <td>8nl2ps</td>\n",
       "      <td>2</td>\n",
       "      <td>datascience</td>\n",
       "      <td>data science recruiters</td>\n",
       "      <td>True</td>\n",
       "    </tr>\n",
       "    <tr>\n",
       "      <th>3</th>\n",
       "      <td>_alexiswashere</td>\n",
       "      <td>1.527738e+09</td>\n",
       "      <td>8neyfp</td>\n",
       "      <td>11</td>\n",
       "      <td>datascience</td>\n",
       "      <td>excel humor wednesday</td>\n",
       "      <td>True</td>\n",
       "    </tr>\n",
       "    <tr>\n",
       "      <th>4</th>\n",
       "      <td>The_Reddit_Jester</td>\n",
       "      <td>1.527791e+09</td>\n",
       "      <td>8nksf9</td>\n",
       "      <td>1</td>\n",
       "      <td>datascience</td>\n",
       "      <td>interested field last months finally pulled tr...</td>\n",
       "      <td>True</td>\n",
       "    </tr>\n",
       "    <tr>\n",
       "      <th>5</th>\n",
       "      <td>adhi-</td>\n",
       "      <td>1.527710e+09</td>\n",
       "      <td>8nbmoj</td>\n",
       "      <td>32</td>\n",
       "      <td>datascience</td>\n",
       "      <td>huge story rocking nba right curious case brya...</td>\n",
       "      <td>True</td>\n",
       "    </tr>\n",
       "    <tr>\n",
       "      <th>6</th>\n",
       "      <td>OPdoesnotrespond</td>\n",
       "      <td>1.527782e+09</td>\n",
       "      <td>8njjel</td>\n",
       "      <td>4</td>\n",
       "      <td>datascience</td>\n",
       "      <td>https www leveledu com data analytics interest...</td>\n",
       "      <td>True</td>\n",
       "    </tr>\n",
       "    <tr>\n",
       "      <th>7</th>\n",
       "      <td>tensorfloe</td>\n",
       "      <td>1.527787e+09</td>\n",
       "      <td>8nk84a</td>\n",
       "      <td>5</td>\n",
       "      <td>datascience</td>\n",
       "      <td>data scientists prefer unix</td>\n",
       "      <td>True</td>\n",
       "    </tr>\n",
       "    <tr>\n",
       "      <th>8</th>\n",
       "      <td>fincloud</td>\n",
       "      <td>1.527779e+09</td>\n",
       "      <td>8nj61i</td>\n",
       "      <td>6</td>\n",
       "      <td>datascience</td>\n",
       "      <td>currently contract relatively big bank data sc...</td>\n",
       "      <td>True</td>\n",
       "    </tr>\n",
       "    <tr>\n",
       "      <th>9</th>\n",
       "      <td>omredhill</td>\n",
       "      <td>1.527771e+09</td>\n",
       "      <td>8ni5bx</td>\n",
       "      <td>8</td>\n",
       "      <td>datascience</td>\n",
       "      <td>learning ml days intro ml module udacity data ...</td>\n",
       "      <td>True</td>\n",
       "    </tr>\n",
       "    <tr>\n",
       "      <th>10</th>\n",
       "      <td>SandipanDeyUMBC</td>\n",
       "      <td>1.527796e+09</td>\n",
       "      <td>8nli2v</td>\n",
       "      <td>0</td>\n",
       "      <td>datascience</td>\n",
       "      <td>machine learning problems python implementations</td>\n",
       "      <td>True</td>\n",
       "    </tr>\n",
       "    <tr>\n",
       "      <th>11</th>\n",
       "      <td>HelpIamlost42</td>\n",
       "      <td>1.527795e+09</td>\n",
       "      <td>8nlanu</td>\n",
       "      <td>1</td>\n",
       "      <td>datascience</td>\n",
       "      <td>kaggle seems people use xgboost competitions c...</td>\n",
       "      <td>True</td>\n",
       "    </tr>\n",
       "    <tr>\n",
       "      <th>12</th>\n",
       "      <td>ChesterEnergyDC</td>\n",
       "      <td>1.527774e+09</td>\n",
       "      <td>8nihot</td>\n",
       "      <td>0</td>\n",
       "      <td>datascience</td>\n",
       "      <td>making energy data breeze u wind turbine database</td>\n",
       "      <td>True</td>\n",
       "    </tr>\n",
       "    <tr>\n",
       "      <th>13</th>\n",
       "      <td>Monyettt</td>\n",
       "      <td>1.527785e+09</td>\n",
       "      <td>8njzdi</td>\n",
       "      <td>3</td>\n",
       "      <td>datascience</td>\n",
       "      <td>hello retrieved binary data electronic health ...</td>\n",
       "      <td>True</td>\n",
       "    </tr>\n",
       "    <tr>\n",
       "      <th>14</th>\n",
       "      <td>adrienball</td>\n",
       "      <td>1.527784e+09</td>\n",
       "      <td>8njsay</td>\n",
       "      <td>0</td>\n",
       "      <td>datascience</td>\n",
       "      <td>snips voice platform embedded spoken language ...</td>\n",
       "      <td>True</td>\n",
       "    </tr>\n",
       "    <tr>\n",
       "      <th>15</th>\n",
       "      <td>cheekyyucker</td>\n",
       "      <td>1.527781e+09</td>\n",
       "      <td>8njbmm</td>\n",
       "      <td>2</td>\n",
       "      <td>datascience</td>\n",
       "      <td>anyone eda kaggle elsewhere consider really go...</td>\n",
       "      <td>True</td>\n",
       "    </tr>\n",
       "    <tr>\n",
       "      <th>16</th>\n",
       "      <td>brsw562</td>\n",
       "      <td>1.527778e+09</td>\n",
       "      <td>8nj0em</td>\n",
       "      <td>2</td>\n",
       "      <td>datascience</td>\n",
       "      <td>currently spend time working r customer segmen...</td>\n",
       "      <td>True</td>\n",
       "    </tr>\n",
       "    <tr>\n",
       "      <th>17</th>\n",
       "      <td>WillingAstronomer</td>\n",
       "      <td>1.527778e+09</td>\n",
       "      <td>8nix9i</td>\n",
       "      <td>2</td>\n",
       "      <td>datascience</td>\n",
       "      <td>hi mostly lurker queries already seemed posed ...</td>\n",
       "      <td>True</td>\n",
       "    </tr>\n",
       "    <tr>\n",
       "      <th>18</th>\n",
       "      <td>jackblun</td>\n",
       "      <td>1.527770e+09</td>\n",
       "      <td>8ni073</td>\n",
       "      <td>0</td>\n",
       "      <td>datascience</td>\n",
       "      <td>context compatibility data analysis</td>\n",
       "      <td>True</td>\n",
       "    </tr>\n",
       "    <tr>\n",
       "      <th>19</th>\n",
       "      <td>_data_scientist_</td>\n",
       "      <td>1.527756e+09</td>\n",
       "      <td>8ngtc2</td>\n",
       "      <td>3</td>\n",
       "      <td>datascience</td>\n",
       "      <td>data science interview asked see three five ye...</td>\n",
       "      <td>True</td>\n",
       "    </tr>\n",
       "    <tr>\n",
       "      <th>20</th>\n",
       "      <td>j00xed</td>\n",
       "      <td>1.527754e+09</td>\n",
       "      <td>8ngn71</td>\n",
       "      <td>3</td>\n",
       "      <td>datascience</td>\n",
       "      <td>roundtable wizards witches vote amongst see sa...</td>\n",
       "      <td>True</td>\n",
       "    </tr>\n",
       "    <tr>\n",
       "      <th>21</th>\n",
       "      <td>mvelasco93</td>\n",
       "      <td>1.527700e+09</td>\n",
       "      <td>8naak0</td>\n",
       "      <td>15</td>\n",
       "      <td>datascience</td>\n",
       "      <td>hi currently organizing hackathon university e...</td>\n",
       "      <td>True</td>\n",
       "    </tr>\n",
       "    <tr>\n",
       "      <th>22</th>\n",
       "      <td>tonym9428</td>\n",
       "      <td>1.527714e+09</td>\n",
       "      <td>8nc5i0</td>\n",
       "      <td>23</td>\n",
       "      <td>datascience</td>\n",
       "      <td>private sector seven eight years post universi...</td>\n",
       "      <td>True</td>\n",
       "    </tr>\n",
       "    <tr>\n",
       "      <th>23</th>\n",
       "      <td>slabby</td>\n",
       "      <td>1.527646e+09</td>\n",
       "      <td>8n4ui3</td>\n",
       "      <td>41</td>\n",
       "      <td>datascience</td>\n",
       "      <td>know subreddit best post sorry one data analys...</td>\n",
       "      <td>True</td>\n",
       "    </tr>\n",
       "    <tr>\n",
       "      <th>24</th>\n",
       "      <td>DiogenicOrder</td>\n",
       "      <td>1.527686e+09</td>\n",
       "      <td>8n8ig6</td>\n",
       "      <td>19</td>\n",
       "      <td>datascience</td>\n",
       "      <td>hey guys gals wondering went volunteering data...</td>\n",
       "      <td>True</td>\n",
       "    </tr>\n",
       "    <tr>\n",
       "      <th>25</th>\n",
       "      <td>predict_for_work</td>\n",
       "      <td>1.527706e+09</td>\n",
       "      <td>8nb5rt</td>\n",
       "      <td>5</td>\n",
       "      <td>datascience</td>\n",
       "      <td>working making model fantasy football draft ra...</td>\n",
       "      <td>True</td>\n",
       "    </tr>\n",
       "    <tr>\n",
       "      <th>26</th>\n",
       "      <td>dbsopinion</td>\n",
       "      <td>1.527702e+09</td>\n",
       "      <td>8najne</td>\n",
       "      <td>5</td>\n",
       "      <td>datascience</td>\n",
       "      <td>method use determine whether statistics publis...</td>\n",
       "      <td>True</td>\n",
       "    </tr>\n",
       "    <tr>\n",
       "      <th>27</th>\n",
       "      <td>jonfla</td>\n",
       "      <td>1.527708e+09</td>\n",
       "      <td>8nbcl9</td>\n",
       "      <td>0</td>\n",
       "      <td>datascience</td>\n",
       "      <td>separating better data big data analytics headed</td>\n",
       "      <td>True</td>\n",
       "    </tr>\n",
       "    <tr>\n",
       "      <th>28</th>\n",
       "      <td>seacucumber3000</td>\n",
       "      <td>1.527706e+09</td>\n",
       "      <td>8nb4ro</td>\n",
       "      <td>2</td>\n",
       "      <td>datascience</td>\n",
       "      <td>using spyder program python running issues pro...</td>\n",
       "      <td>True</td>\n",
       "    </tr>\n",
       "    <tr>\n",
       "      <th>29</th>\n",
       "      <td>brawlerbrad91</td>\n",
       "      <td>1.527709e+09</td>\n",
       "      <td>8nbkrl</td>\n",
       "      <td>2</td>\n",
       "      <td>datascience</td>\n",
       "      <td>title says use outlook company like basic bag ...</td>\n",
       "      <td>True</td>\n",
       "    </tr>\n",
       "    <tr>\n",
       "      <th>...</th>\n",
       "      <td>...</td>\n",
       "      <td>...</td>\n",
       "      <td>...</td>\n",
       "      <td>...</td>\n",
       "      <td>...</td>\n",
       "      <td>...</td>\n",
       "      <td>...</td>\n",
       "    </tr>\n",
       "    <tr>\n",
       "      <th>13423</th>\n",
       "      <td>allied-academies</td>\n",
       "      <td>1.500295e+09</td>\n",
       "      <td>6nsraq</td>\n",
       "      <td>0</td>\n",
       "      <td>genetics</td>\n",
       "      <td>lifting dark clouds depression old age</td>\n",
       "      <td>False</td>\n",
       "    </tr>\n",
       "    <tr>\n",
       "      <th>13424</th>\n",
       "      <td>alexian99631</td>\n",
       "      <td>1.500278e+09</td>\n",
       "      <td>6nronu</td>\n",
       "      <td>0</td>\n",
       "      <td>genetics</td>\n",
       "      <td>potency human interferon human interferon b en...</td>\n",
       "      <td>False</td>\n",
       "    </tr>\n",
       "    <tr>\n",
       "      <th>13425</th>\n",
       "      <td>[deleted]</td>\n",
       "      <td>1.500253e+09</td>\n",
       "      <td>6npxdj</td>\n",
       "      <td>5</td>\n",
       "      <td>genetics</td>\n",
       "      <td>question someone depth knowledge eye colour ge...</td>\n",
       "      <td>False</td>\n",
       "    </tr>\n",
       "    <tr>\n",
       "      <th>13426</th>\n",
       "      <td>JonStacey2017</td>\n",
       "      <td>1.500249e+09</td>\n",
       "      <td>6npkkf</td>\n",
       "      <td>4</td>\n",
       "      <td>genetics</td>\n",
       "      <td>recently discovered vessels human body presuma...</td>\n",
       "      <td>False</td>\n",
       "    </tr>\n",
       "    <tr>\n",
       "      <th>13427</th>\n",
       "      <td>Tidemand</td>\n",
       "      <td>1.500198e+09</td>\n",
       "      <td>6nlf0d</td>\n",
       "      <td>2</td>\n",
       "      <td>genetics</td>\n",
       "      <td>part cell based dna take membrane instance cel...</td>\n",
       "      <td>False</td>\n",
       "    </tr>\n",
       "    <tr>\n",
       "      <th>13428</th>\n",
       "      <td>g33kss</td>\n",
       "      <td>1.500153e+09</td>\n",
       "      <td>6nid3o</td>\n",
       "      <td>4</td>\n",
       "      <td>genetics</td>\n",
       "      <td>lazy animals like alligators american bullies ...</td>\n",
       "      <td>False</td>\n",
       "    </tr>\n",
       "    <tr>\n",
       "      <th>13429</th>\n",
       "      <td>ninjakitty117</td>\n",
       "      <td>1.500101e+09</td>\n",
       "      <td>6nejll</td>\n",
       "      <td>18</td>\n",
       "      <td>genetics</td>\n",
       "      <td>picture makes cringe law order svu</td>\n",
       "      <td>False</td>\n",
       "    </tr>\n",
       "    <tr>\n",
       "      <th>13430</th>\n",
       "      <td>Mtotheabq</td>\n",
       "      <td>1.500157e+09</td>\n",
       "      <td>6niquk</td>\n",
       "      <td>0</td>\n",
       "      <td>genetics</td>\n",
       "      <td>hi compound heterozygous recently put l mthf t...</td>\n",
       "      <td>False</td>\n",
       "    </tr>\n",
       "    <tr>\n",
       "      <th>13431</th>\n",
       "      <td>catmusica</td>\n",
       "      <td>1.500088e+09</td>\n",
       "      <td>6ndq8o</td>\n",
       "      <td>4</td>\n",
       "      <td>genetics</td>\n",
       "      <td>people always say thumb left weird goes almost...</td>\n",
       "      <td>False</td>\n",
       "    </tr>\n",
       "    <tr>\n",
       "      <th>13432</th>\n",
       "      <td>burtzev</td>\n",
       "      <td>1.500050e+09</td>\n",
       "      <td>6na5zn</td>\n",
       "      <td>1</td>\n",
       "      <td>genetics</td>\n",
       "      <td>longer outrun antibiotic resistance need</td>\n",
       "      <td>False</td>\n",
       "    </tr>\n",
       "    <tr>\n",
       "      <th>13433</th>\n",
       "      <td>dumbroad</td>\n",
       "      <td>1.500060e+09</td>\n",
       "      <td>6nb94l</td>\n",
       "      <td>0</td>\n",
       "      <td>genetics</td>\n",
       "      <td>programs exist allows upload two individual an...</td>\n",
       "      <td>False</td>\n",
       "    </tr>\n",
       "    <tr>\n",
       "      <th>13434</th>\n",
       "      <td>mounikachowdary</td>\n",
       "      <td>1.500033e+09</td>\n",
       "      <td>6n8hjn</td>\n",
       "      <td>0</td>\n",
       "      <td>genetics</td>\n",
       "      <td>american research journal genetics</td>\n",
       "      <td>False</td>\n",
       "    </tr>\n",
       "    <tr>\n",
       "      <th>13435</th>\n",
       "      <td>Kadirsyl</td>\n",
       "      <td>1.499975e+09</td>\n",
       "      <td>6n3zii</td>\n",
       "      <td>1</td>\n",
       "      <td>genetics</td>\n",
       "      <td>using crispr cas system embed movie living bac...</td>\n",
       "      <td>False</td>\n",
       "    </tr>\n",
       "    <tr>\n",
       "      <th>13436</th>\n",
       "      <td>1c0_CM</td>\n",
       "      <td>1.499967e+09</td>\n",
       "      <td>6n35q3</td>\n",
       "      <td>9</td>\n",
       "      <td>genetics</td>\n",
       "      <td>works encrypgen genomic database blockchain</td>\n",
       "      <td>False</td>\n",
       "    </tr>\n",
       "    <tr>\n",
       "      <th>13437</th>\n",
       "      <td>Yovav</td>\n",
       "      <td>1.499959e+09</td>\n",
       "      <td>6n2afz</td>\n",
       "      <td>0</td>\n",
       "      <td>genetics</td>\n",
       "      <td>fda panel endorses potential first us gene the...</td>\n",
       "      <td>False</td>\n",
       "    </tr>\n",
       "    <tr>\n",
       "      <th>13438</th>\n",
       "      <td>Silverseren</td>\n",
       "      <td>1.499914e+09</td>\n",
       "      <td>6myu2a</td>\n",
       "      <td>4</td>\n",
       "      <td>genetics</td>\n",
       "      <td>controversy biosafety bioethics horsepox risks...</td>\n",
       "      <td>False</td>\n",
       "    </tr>\n",
       "    <tr>\n",
       "      <th>13439</th>\n",
       "      <td>talcobh</td>\n",
       "      <td>1.499891e+09</td>\n",
       "      <td>6mwp5g</td>\n",
       "      <td>22</td>\n",
       "      <td>genetics</td>\n",
       "      <td>hey discovered year ago lactose intolerant sta...</td>\n",
       "      <td>False</td>\n",
       "    </tr>\n",
       "    <tr>\n",
       "      <th>13440</th>\n",
       "      <td>Gunted_Fries</td>\n",
       "      <td>1.499813e+09</td>\n",
       "      <td>6mpt84</td>\n",
       "      <td>17</td>\n",
       "      <td>genetics</td>\n",
       "      <td>hello graduating math major minor physics chem...</td>\n",
       "      <td>False</td>\n",
       "    </tr>\n",
       "    <tr>\n",
       "      <th>13441</th>\n",
       "      <td>scertic</td>\n",
       "      <td>1.499762e+09</td>\n",
       "      <td>6mkxa9</td>\n",
       "      <td>0</td>\n",
       "      <td>genetics</td>\n",
       "      <td>decoding brain evolution</td>\n",
       "      <td>False</td>\n",
       "    </tr>\n",
       "    <tr>\n",
       "      <th>13442</th>\n",
       "      <td>Qemuel8</td>\n",
       "      <td>1.499786e+09</td>\n",
       "      <td>6mmu62</td>\n",
       "      <td>10</td>\n",
       "      <td>genetics</td>\n",
       "      <td>know yahoo ask quora sth im actually new thoug...</td>\n",
       "      <td>False</td>\n",
       "    </tr>\n",
       "    <tr>\n",
       "      <th>13443</th>\n",
       "      <td>rubster480</td>\n",
       "      <td>1.499749e+09</td>\n",
       "      <td>6mk23z</td>\n",
       "      <td>6</td>\n",
       "      <td>genetics</td>\n",
       "      <td>andme dna test amazon</td>\n",
       "      <td>False</td>\n",
       "    </tr>\n",
       "    <tr>\n",
       "      <th>13444</th>\n",
       "      <td>metal_head_lady</td>\n",
       "      <td>1.499781e+09</td>\n",
       "      <td>6mmbto</td>\n",
       "      <td>1</td>\n",
       "      <td>genetics</td>\n",
       "      <td>genetic related diseases specifically autosoma...</td>\n",
       "      <td>False</td>\n",
       "    </tr>\n",
       "    <tr>\n",
       "      <th>13445</th>\n",
       "      <td>alexian99631</td>\n",
       "      <td>1.499778e+09</td>\n",
       "      <td>6mm17b</td>\n",
       "      <td>0</td>\n",
       "      <td>genetics</td>\n",
       "      <td>mitochondrial dna marker genetic diversity evo...</td>\n",
       "      <td>False</td>\n",
       "    </tr>\n",
       "    <tr>\n",
       "      <th>13446</th>\n",
       "      <td>TerryGhast</td>\n",
       "      <td>1.499751e+09</td>\n",
       "      <td>6mk8em</td>\n",
       "      <td>3</td>\n",
       "      <td>genetics</td>\n",
       "      <td>fictional world trying build fun title said po...</td>\n",
       "      <td>False</td>\n",
       "    </tr>\n",
       "    <tr>\n",
       "      <th>13447</th>\n",
       "      <td>crimsonpea</td>\n",
       "      <td>1.499703e+09</td>\n",
       "      <td>6mfetr</td>\n",
       "      <td>17</td>\n",
       "      <td>genetics</td>\n",
       "      <td>hello recently stopped canadian blood bank tol...</td>\n",
       "      <td>False</td>\n",
       "    </tr>\n",
       "    <tr>\n",
       "      <th>13448</th>\n",
       "      <td>andrinawillliams</td>\n",
       "      <td>1.499688e+09</td>\n",
       "      <td>6mdzfd</td>\n",
       "      <td>0</td>\n",
       "      <td>genetics</td>\n",
       "      <td>inhibition cg ghitm homologue neurons drosophi...</td>\n",
       "      <td>False</td>\n",
       "    </tr>\n",
       "    <tr>\n",
       "      <th>13449</th>\n",
       "      <td>cheifmummy</td>\n",
       "      <td>1.499541e+09</td>\n",
       "      <td>6m2tn5</td>\n",
       "      <td>10</td>\n",
       "      <td>genetics</td>\n",
       "      <td>basic breakdown son half mexican two grandpare...</td>\n",
       "      <td>False</td>\n",
       "    </tr>\n",
       "    <tr>\n",
       "      <th>13450</th>\n",
       "      <td>shallah</td>\n",
       "      <td>1.499513e+09</td>\n",
       "      <td>6m0i5t</td>\n",
       "      <td>0</td>\n",
       "      <td>genetics</td>\n",
       "      <td>hyper personalization disrupt three major indu...</td>\n",
       "      <td>False</td>\n",
       "    </tr>\n",
       "    <tr>\n",
       "      <th>13451</th>\n",
       "      <td>mztw7x</td>\n",
       "      <td>1.499513e+09</td>\n",
       "      <td>6m0hta</td>\n",
       "      <td>8</td>\n",
       "      <td>genetics</td>\n",
       "      <td>note expert course facts could wrong reasoning...</td>\n",
       "      <td>False</td>\n",
       "    </tr>\n",
       "    <tr>\n",
       "      <th>13452</th>\n",
       "      <td>chronoleaks</td>\n",
       "      <td>1.499463e+09</td>\n",
       "      <td>6lwt72</td>\n",
       "      <td>0</td>\n",
       "      <td>genetics</td>\n",
       "      <td>genetic test predicts future newborns</td>\n",
       "      <td>False</td>\n",
       "    </tr>\n",
       "  </tbody>\n",
       "</table>\n",
       "<p>1866 rows × 7 columns</p>\n",
       "</div>"
      ],
      "text/plain": [
       "                  author   created_utc      id  num_comments    subreddit  \\\n",
       "0               Omega037  1.526405e+09  8jneyb            40  datascience   \n",
       "1               Omega037  1.527209e+09  8lxn0s            71  datascience   \n",
       "2            gagejustins  1.527793e+09  8nl2ps             2  datascience   \n",
       "3         _alexiswashere  1.527738e+09  8neyfp            11  datascience   \n",
       "4      The_Reddit_Jester  1.527791e+09  8nksf9             1  datascience   \n",
       "5                  adhi-  1.527710e+09  8nbmoj            32  datascience   \n",
       "6       OPdoesnotrespond  1.527782e+09  8njjel             4  datascience   \n",
       "7             tensorfloe  1.527787e+09  8nk84a             5  datascience   \n",
       "8               fincloud  1.527779e+09  8nj61i             6  datascience   \n",
       "9              omredhill  1.527771e+09  8ni5bx             8  datascience   \n",
       "10       SandipanDeyUMBC  1.527796e+09  8nli2v             0  datascience   \n",
       "11         HelpIamlost42  1.527795e+09  8nlanu             1  datascience   \n",
       "12       ChesterEnergyDC  1.527774e+09  8nihot             0  datascience   \n",
       "13              Monyettt  1.527785e+09  8njzdi             3  datascience   \n",
       "14            adrienball  1.527784e+09  8njsay             0  datascience   \n",
       "15          cheekyyucker  1.527781e+09  8njbmm             2  datascience   \n",
       "16               brsw562  1.527778e+09  8nj0em             2  datascience   \n",
       "17     WillingAstronomer  1.527778e+09  8nix9i             2  datascience   \n",
       "18              jackblun  1.527770e+09  8ni073             0  datascience   \n",
       "19      _data_scientist_  1.527756e+09  8ngtc2             3  datascience   \n",
       "20                j00xed  1.527754e+09  8ngn71             3  datascience   \n",
       "21            mvelasco93  1.527700e+09  8naak0            15  datascience   \n",
       "22             tonym9428  1.527714e+09  8nc5i0            23  datascience   \n",
       "23                slabby  1.527646e+09  8n4ui3            41  datascience   \n",
       "24         DiogenicOrder  1.527686e+09  8n8ig6            19  datascience   \n",
       "25      predict_for_work  1.527706e+09  8nb5rt             5  datascience   \n",
       "26            dbsopinion  1.527702e+09  8najne             5  datascience   \n",
       "27                jonfla  1.527708e+09  8nbcl9             0  datascience   \n",
       "28       seacucumber3000  1.527706e+09  8nb4ro             2  datascience   \n",
       "29         brawlerbrad91  1.527709e+09  8nbkrl             2  datascience   \n",
       "...                  ...           ...     ...           ...          ...   \n",
       "13423   allied-academies  1.500295e+09  6nsraq             0     genetics   \n",
       "13424       alexian99631  1.500278e+09  6nronu             0     genetics   \n",
       "13425          [deleted]  1.500253e+09  6npxdj             5     genetics   \n",
       "13426      JonStacey2017  1.500249e+09  6npkkf             4     genetics   \n",
       "13427           Tidemand  1.500198e+09  6nlf0d             2     genetics   \n",
       "13428             g33kss  1.500153e+09  6nid3o             4     genetics   \n",
       "13429      ninjakitty117  1.500101e+09  6nejll            18     genetics   \n",
       "13430          Mtotheabq  1.500157e+09  6niquk             0     genetics   \n",
       "13431          catmusica  1.500088e+09  6ndq8o             4     genetics   \n",
       "13432            burtzev  1.500050e+09  6na5zn             1     genetics   \n",
       "13433           dumbroad  1.500060e+09  6nb94l             0     genetics   \n",
       "13434    mounikachowdary  1.500033e+09  6n8hjn             0     genetics   \n",
       "13435           Kadirsyl  1.499975e+09  6n3zii             1     genetics   \n",
       "13436             1c0_CM  1.499967e+09  6n35q3             9     genetics   \n",
       "13437              Yovav  1.499959e+09  6n2afz             0     genetics   \n",
       "13438        Silverseren  1.499914e+09  6myu2a             4     genetics   \n",
       "13439            talcobh  1.499891e+09  6mwp5g            22     genetics   \n",
       "13440       Gunted_Fries  1.499813e+09  6mpt84            17     genetics   \n",
       "13441            scertic  1.499762e+09  6mkxa9             0     genetics   \n",
       "13442            Qemuel8  1.499786e+09  6mmu62            10     genetics   \n",
       "13443         rubster480  1.499749e+09  6mk23z             6     genetics   \n",
       "13444    metal_head_lady  1.499781e+09  6mmbto             1     genetics   \n",
       "13445       alexian99631  1.499778e+09  6mm17b             0     genetics   \n",
       "13446         TerryGhast  1.499751e+09  6mk8em             3     genetics   \n",
       "13447         crimsonpea  1.499703e+09  6mfetr            17     genetics   \n",
       "13448   andrinawillliams  1.499688e+09  6mdzfd             0     genetics   \n",
       "13449         cheifmummy  1.499541e+09  6m2tn5            10     genetics   \n",
       "13450            shallah  1.499513e+09  6m0i5t             0     genetics   \n",
       "13451             mztw7x  1.499513e+09  6m0hta             8     genetics   \n",
       "13452        chronoleaks  1.499463e+09  6lwt72             0     genetics   \n",
       "\n",
       "                                                    text  subreddit_boolean  \n",
       "0      mod team decided would nice put together list ...               True  \n",
       "1      welcome week entering amp transitioning thread...               True  \n",
       "2                                data science recruiters               True  \n",
       "3                                  excel humor wednesday               True  \n",
       "4      interested field last months finally pulled tr...               True  \n",
       "5      huge story rocking nba right curious case brya...               True  \n",
       "6      https www leveledu com data analytics interest...               True  \n",
       "7                            data scientists prefer unix               True  \n",
       "8      currently contract relatively big bank data sc...               True  \n",
       "9      learning ml days intro ml module udacity data ...               True  \n",
       "10      machine learning problems python implementations               True  \n",
       "11     kaggle seems people use xgboost competitions c...               True  \n",
       "12     making energy data breeze u wind turbine database               True  \n",
       "13     hello retrieved binary data electronic health ...               True  \n",
       "14     snips voice platform embedded spoken language ...               True  \n",
       "15     anyone eda kaggle elsewhere consider really go...               True  \n",
       "16     currently spend time working r customer segmen...               True  \n",
       "17     hi mostly lurker queries already seemed posed ...               True  \n",
       "18                   context compatibility data analysis               True  \n",
       "19     data science interview asked see three five ye...               True  \n",
       "20     roundtable wizards witches vote amongst see sa...               True  \n",
       "21     hi currently organizing hackathon university e...               True  \n",
       "22     private sector seven eight years post universi...               True  \n",
       "23     know subreddit best post sorry one data analys...               True  \n",
       "24     hey guys gals wondering went volunteering data...               True  \n",
       "25     working making model fantasy football draft ra...               True  \n",
       "26     method use determine whether statistics publis...               True  \n",
       "27      separating better data big data analytics headed               True  \n",
       "28     using spyder program python running issues pro...               True  \n",
       "29     title says use outlook company like basic bag ...               True  \n",
       "...                                                  ...                ...  \n",
       "13423             lifting dark clouds depression old age              False  \n",
       "13424  potency human interferon human interferon b en...              False  \n",
       "13425  question someone depth knowledge eye colour ge...              False  \n",
       "13426  recently discovered vessels human body presuma...              False  \n",
       "13427  part cell based dna take membrane instance cel...              False  \n",
       "13428  lazy animals like alligators american bullies ...              False  \n",
       "13429                 picture makes cringe law order svu              False  \n",
       "13430  hi compound heterozygous recently put l mthf t...              False  \n",
       "13431  people always say thumb left weird goes almost...              False  \n",
       "13432           longer outrun antibiotic resistance need              False  \n",
       "13433  programs exist allows upload two individual an...              False  \n",
       "13434                 american research journal genetics              False  \n",
       "13435  using crispr cas system embed movie living bac...              False  \n",
       "13436        works encrypgen genomic database blockchain              False  \n",
       "13437  fda panel endorses potential first us gene the...              False  \n",
       "13438  controversy biosafety bioethics horsepox risks...              False  \n",
       "13439  hey discovered year ago lactose intolerant sta...              False  \n",
       "13440  hello graduating math major minor physics chem...              False  \n",
       "13441                           decoding brain evolution              False  \n",
       "13442  know yahoo ask quora sth im actually new thoug...              False  \n",
       "13443                              andme dna test amazon              False  \n",
       "13444  genetic related diseases specifically autosoma...              False  \n",
       "13445  mitochondrial dna marker genetic diversity evo...              False  \n",
       "13446  fictional world trying build fun title said po...              False  \n",
       "13447  hello recently stopped canadian blood bank tol...              False  \n",
       "13448  inhibition cg ghitm homologue neurons drosophi...              False  \n",
       "13449  basic breakdown son half mexican two grandpare...              False  \n",
       "13450  hyper personalization disrupt three major indu...              False  \n",
       "13451  note expert course facts could wrong reasoning...              False  \n",
       "13452              genetic test predicts future newborns              False  \n",
       "\n",
       "[1866 rows x 7 columns]"
      ]
     },
     "execution_count": 6,
     "metadata": {},
     "output_type": "execute_result"
    }
   ],
   "source": [
    "X_features_df"
   ]
  },
  {
   "cell_type": "code",
   "execution_count": 7,
   "metadata": {},
   "outputs": [
    {
     "data": {
      "text/html": [
       "<div>\n",
       "<style scoped>\n",
       "    .dataframe tbody tr th:only-of-type {\n",
       "        vertical-align: middle;\n",
       "    }\n",
       "\n",
       "    .dataframe tbody tr th {\n",
       "        vertical-align: top;\n",
       "    }\n",
       "\n",
       "    .dataframe thead th {\n",
       "        text-align: right;\n",
       "    }\n",
       "</style>\n",
       "<table border=\"1\" class=\"dataframe\">\n",
       "  <thead>\n",
       "    <tr style=\"text-align: right;\">\n",
       "      <th></th>\n",
       "      <th>author</th>\n",
       "      <th>created_utc</th>\n",
       "      <th>id</th>\n",
       "      <th>num_comments</th>\n",
       "      <th>subreddit</th>\n",
       "      <th>text</th>\n",
       "    </tr>\n",
       "    <tr>\n",
       "      <th>subreddit_boolean</th>\n",
       "      <th></th>\n",
       "      <th></th>\n",
       "      <th></th>\n",
       "      <th></th>\n",
       "      <th></th>\n",
       "      <th></th>\n",
       "    </tr>\n",
       "  </thead>\n",
       "  <tbody>\n",
       "    <tr>\n",
       "      <th>False</th>\n",
       "      <td>994</td>\n",
       "      <td>994</td>\n",
       "      <td>994</td>\n",
       "      <td>994</td>\n",
       "      <td>994</td>\n",
       "      <td>994</td>\n",
       "    </tr>\n",
       "    <tr>\n",
       "      <th>True</th>\n",
       "      <td>872</td>\n",
       "      <td>872</td>\n",
       "      <td>872</td>\n",
       "      <td>872</td>\n",
       "      <td>872</td>\n",
       "      <td>872</td>\n",
       "    </tr>\n",
       "  </tbody>\n",
       "</table>\n",
       "</div>"
      ],
      "text/plain": [
       "                   author  created_utc   id  num_comments  subreddit  text\n",
       "subreddit_boolean                                                         \n",
       "False                 994          994  994           994        994   994\n",
       "True                  872          872  872           872        872   872"
      ]
     },
     "execution_count": 7,
     "metadata": {},
     "output_type": "execute_result"
    }
   ],
   "source": [
    "X_features_df.groupby('subreddit_boolean').count()"
   ]
  },
  {
   "cell_type": "code",
   "execution_count": 8,
   "metadata": {},
   "outputs": [
    {
     "data": {
      "text/plain": [
       "0.5270413573700954"
      ]
     },
     "execution_count": 8,
     "metadata": {},
     "output_type": "execute_result"
    }
   ],
   "source": [
    "994/1886"
   ]
  },
  {
   "cell_type": "markdown",
   "metadata": {},
   "source": [
    "# Pair Plot of Variables to Predict WhichReddit"
   ]
  },
  {
   "cell_type": "code",
   "execution_count": 9,
   "metadata": {},
   "outputs": [
    {
     "data": {
      "image/png": "[encoded data removed]",
      "text/plain": [
       "<matplotlib.figure.Figure at 0x1085aca90>"
      ]
     },
     "metadata": {},
     "output_type": "display_data"
    }
   ],
   "source": [
    "sb.pairplot(X_features_df);"
   ]
  },
  {
   "cell_type": "markdown",
   "metadata": {},
   "source": [
    "#### The number of posts from the two chosen subreddits were similar to one another, 52.3% of posts were from genetics, and 47.7% are from the datascience subreddits. However, there were considerably more comments per post on datascience threads than genetics threads.  This could be used to supplement text-only methods for distinguishing between posts, if necessary."
   ]
  },
  {
   "cell_type": "markdown",
   "metadata": {},
   "source": [
    "# Train Test Split"
   ]
  },
  {
   "cell_type": "markdown",
   "metadata": {},
   "source": [
    "#### First, we use train test split to ensure that we will have a hold out data set that was not used to create the model. This hold out set is used to validate the model before putting it use in production."
   ]
  },
  {
   "cell_type": "code",
   "execution_count": 10,
   "metadata": {},
   "outputs": [],
   "source": [
    "X = X_features_df['text']\n",
    "y = X_features_df['subreddit']"
   ]
  },
  {
   "cell_type": "code",
   "execution_count": 11,
   "metadata": {},
   "outputs": [],
   "source": [
    "X_train, X_test, y_train, y_test = train_test_split(X, y)"
   ]
  },
  {
   "cell_type": "code",
   "execution_count": 12,
   "metadata": {},
   "outputs": [],
   "source": [
    "y_train_boolean = y_train == 'datascience'\n",
    "y_test_boolean = y_test == 'datascience'"
   ]
  },
  {
   "cell_type": "code",
   "execution_count": 13,
   "metadata": {},
   "outputs": [],
   "source": [
    "# Initialize the \"TFidfVectorizer\" object which vectorizes words in text by count, normalizing\n",
    "# word frequency by including a factor that will decrease the effect of commonly occuring words\n",
    "# specific to the posts analyzed. This is done for reasons similiar to why we discount words\n",
    "# that occur frequently in the English language generally--- their appearance may obscure more\n",
    "# important, differentiating words.\n",
    "tvec = TfidfVectorizer(analyzer = \"word\",   \\\n",
    "                       tokenizer = None,    \\\n",
    "                       preprocessor = None, \\\n",
    "                       stop_words = None,   \\\n",
    "                       max_features = 10000) \n",
    "\n",
    "X_train_tv = pd.SparseDataFrame(tvec.fit_transform(X_train), columns=tvec.get_feature_names(), \n",
    "                                default_fill_value=0)\n",
    "X_test_tv = pd.SparseDataFrame(tvec.transform(X_test), columns=tvec.get_feature_names(), \n",
    "                                default_fill_value=0)"
   ]
  },
  {
   "cell_type": "markdown",
   "metadata": {},
   "source": [
    "#### Clean text of posts now saved in a sparse dataframe, clean_text__cv_sdf, for use in building a model. The rest of the features to be used are now saved in X_features_df for use in the next notebook."
   ]
  },
  {
   "cell_type": "markdown",
   "metadata": {},
   "source": [
    "# Model Building and Confusion Matrix Metrics"
   ]
  },
  {
   "cell_type": "markdown",
   "metadata": {},
   "source": [
    "#### There are several models we would like to compare with one another according to their performance in certain specific metrics:  how accurate they are in determining which subreddit a particular post belongs to compared with the precision with which such determinations can be made. The following function, written primarily by my cohort-mate Bing Chen, allows one to call up these two metrics along with several others:"
   ]
  },
  {
   "cell_type": "code",
   "execution_count": 14,
   "metadata": {},
   "outputs": [],
   "source": [
    "def get_metrics(y_true, y_predict):\n",
    "    matrix_def = [['tn','fp'], ['fn','tp']]\n",
    "    matrix = confusion_matrix(y_true, y_predict)\n",
    "    tn, fp, fn, tp = matrix.ravel()\n",
    "    accuracy = (tp+tn)/(tn+fp+fn+tp)\n",
    "    misclass = 1-accuracy\n",
    "    precision = tp/(tp+fp)\n",
    "    sensitivity = tp/(tp+fn)\n",
    "    specificity = tn/(tn+fp)\n",
    "    print('Matrix Definition')\n",
    "    print(np.array(matrix_def))\n",
    "    print('')\n",
    "    print('Confusion Matrix')\n",
    "    print(matrix)\n",
    "    print('')\n",
    "    print('METRICS')\n",
    "    print(f'accuracy: {accuracy}')\n",
    "    print(f'misclass: {misclass}')\n",
    "    print(f'precision: {precision}')\n",
    "    print(f'sensitivity: {sensitivity}')\n",
    "    print(f'specificity: {specificity}')"
   ]
  },
  {
   "cell_type": "code",
   "execution_count": 15,
   "metadata": {},
   "outputs": [],
   "source": [
    "logreg = LogisticRegression()"
   ]
  },
  {
   "cell_type": "code",
   "execution_count": 16,
   "metadata": {
    "scrolled": true
   },
   "outputs": [
    {
     "data": {
      "text/plain": [
       "LogisticRegression(C=1.0, class_weight=None, dual=False, fit_intercept=True,\n",
       "          intercept_scaling=1, max_iter=100, multi_class='ovr', n_jobs=1,\n",
       "          penalty='l2', random_state=None, solver='liblinear', tol=0.0001,\n",
       "          verbose=0, warm_start=False)"
      ]
     },
     "execution_count": 16,
     "metadata": {},
     "output_type": "execute_result"
    }
   ],
   "source": [
    "logreg.fit(X_train_tv, y_train)"
   ]
  },
  {
   "cell_type": "code",
   "execution_count": 17,
   "metadata": {},
   "outputs": [
    {
     "data": {
      "text/plain": [
       "array(['genetics', 'genetics', 'datascience', ..., 'datascience',\n",
       "       'genetics', 'genetics'], dtype=object)"
      ]
     },
     "execution_count": 17,
     "metadata": {},
     "output_type": "execute_result"
    }
   ],
   "source": [
    "logreg.predict(X_train_tv)"
   ]
  },
  {
   "cell_type": "code",
   "execution_count": 18,
   "metadata": {},
   "outputs": [
    {
     "data": {
      "text/plain": [
       "0.9928520371694067"
      ]
     },
     "execution_count": 18,
     "metadata": {},
     "output_type": "execute_result"
    }
   ],
   "source": [
    "logreg.score(X_train_tv, y_train)"
   ]
  },
  {
   "cell_type": "code",
   "execution_count": 19,
   "metadata": {
    "scrolled": true
   },
   "outputs": [
    {
     "data": {
      "text/plain": [
       "0.9357601713062098"
      ]
     },
     "execution_count": 19,
     "metadata": {},
     "output_type": "execute_result"
    }
   ],
   "source": [
    "logreg.score(X_test_tv, y_test)"
   ]
  },
  {
   "cell_type": "code",
   "execution_count": 20,
   "metadata": {},
   "outputs": [
    {
     "name": "stdout",
     "output_type": "stream",
     "text": [
      "Matrix Definition\n",
      "[['tn' 'fp']\n",
      " ['fn' 'tp']]\n",
      "\n",
      "Confusion Matrix\n",
      "[[195  25]\n",
      " [  5 242]]\n",
      "\n",
      "METRICS\n",
      "accuracy: 0.9357601713062098\n",
      "misclass: 0.06423982869379019\n",
      "precision: 0.9063670411985019\n",
      "sensitivity: 0.979757085020243\n",
      "specificity: 0.8863636363636364\n"
     ]
    }
   ],
   "source": [
    "get_metrics(y_test, logreg.predict(X_test_tv))"
   ]
  },
  {
   "cell_type": "markdown",
   "metadata": {
    "nbpresent": {
     "id": "e3246bf0-4d8e-486c-9d6c-ae6091c890fd"
    }
   },
   "source": [
    "#### Logistic regression takes word usage data and regresses it onto sigmoid functions that divide posts into two groups, belonging to the datascience subreddit or the genetics subreddit. The logistic regression model does appear to be somewhat overfit, inferring training data with 99% accuracy while only predicting test data with 94% accuracy. That said, 94% accuracy is far better than 53%, the accuracy you would have if you just guessed that all posts from were the more common group of posts, datascience.\n",
    "\n",
    "#### Looking at the confusion martrix, more genetics posts were misclassfied as datascience posts (25 posts) than vice versa (5 posts). This bias seems to be fairly constant with this model, at least with this dataset:  across a dozen random splits, the number of genetics posts misclassified as datascience posts always exceeded the number of datascience posts misclassified as genetics posts."
   ]
  },
  {
   "cell_type": "markdown",
   "metadata": {},
   "source": [
    "# K Nearest Neighbors"
   ]
  },
  {
   "cell_type": "code",
   "execution_count": 21,
   "metadata": {},
   "outputs": [],
   "source": [
    "from sklearn.neighbors import KNeighborsClassifier"
   ]
  },
  {
   "cell_type": "code",
   "execution_count": 22,
   "metadata": {},
   "outputs": [],
   "source": [
    "knn = KNeighborsClassifier()"
   ]
  },
  {
   "cell_type": "code",
   "execution_count": 23,
   "metadata": {},
   "outputs": [],
   "source": [
    "y_train_boolean = y_train == 'datascience'\n",
    "y_test_boolean = y_test == 'datascience'"
   ]
  },
  {
   "cell_type": "code",
   "execution_count": 24,
   "metadata": {},
   "outputs": [
    {
     "data": {
      "text/plain": [
       "KNeighborsClassifier(algorithm='auto', leaf_size=30, metric='minkowski',\n",
       "           metric_params=None, n_jobs=1, n_neighbors=5, p=2,\n",
       "           weights='uniform')"
      ]
     },
     "execution_count": 24,
     "metadata": {},
     "output_type": "execute_result"
    }
   ],
   "source": [
    "knn.fit(X_train_tv, y_train)"
   ]
  },
  {
   "cell_type": "code",
   "execution_count": 25,
   "metadata": {},
   "outputs": [
    {
     "data": {
      "text/plain": [
       "0.9664045746962115"
      ]
     },
     "execution_count": 25,
     "metadata": {},
     "output_type": "execute_result"
    }
   ],
   "source": [
    "knn.score(X_train_tv, y_train)"
   ]
  },
  {
   "cell_type": "code",
   "execution_count": 26,
   "metadata": {},
   "outputs": [
    {
     "data": {
      "text/plain": [
       "0.9250535331905781"
      ]
     },
     "execution_count": 26,
     "metadata": {},
     "output_type": "execute_result"
    }
   ],
   "source": [
    "knn.score(X_test_tv, y_test)"
   ]
  },
  {
   "cell_type": "code",
   "execution_count": 27,
   "metadata": {},
   "outputs": [
    {
     "name": "stdout",
     "output_type": "stream",
     "text": [
      "Matrix Definition\n",
      "[['tn' 'fp']\n",
      " ['fn' 'tp']]\n",
      "\n",
      "Confusion Matrix\n",
      "[[201  19]\n",
      " [ 16 231]]\n",
      "\n",
      "METRICS\n",
      "accuracy: 0.9250535331905781\n",
      "misclass: 0.07494646680942185\n",
      "precision: 0.924\n",
      "sensitivity: 0.9352226720647774\n",
      "specificity: 0.9136363636363637\n"
     ]
    }
   ],
   "source": [
    "get_metrics(y_test, knn.predict(X_test_tv))"
   ]
  },
  {
   "cell_type": "markdown",
   "metadata": {},
   "source": [
    "#### K nearest neighbors classifies data by memorizing the position of posts according to the words that occur in those posts and then groups posts as a function of their proximity to one another in this \"word-space.\" K nearest neighbors was a very good for my data, inferring training data with 97% accuracy while being able to predict test data with 93% accuracy. Misclassified datascience posts and genetics posts were fairly even, with 19 genetics posts misclassfied as datascience posts and 16 vice versa. Accuracy percentages fluctuated across random splits, but these accuracy values are fairly representative."
   ]
  },
  {
   "cell_type": "markdown",
   "metadata": {},
   "source": [
    "# Decision Tree"
   ]
  },
  {
   "cell_type": "code",
   "execution_count": 28,
   "metadata": {},
   "outputs": [],
   "source": [
    "from sklearn.tree import DecisionTreeClassifier"
   ]
  },
  {
   "cell_type": "code",
   "execution_count": 29,
   "metadata": {},
   "outputs": [],
   "source": [
    "tree = DecisionTreeClassifier()"
   ]
  },
  {
   "cell_type": "code",
   "execution_count": 30,
   "metadata": {},
   "outputs": [
    {
     "data": {
      "text/plain": [
       "DecisionTreeClassifier(class_weight=None, criterion='gini', max_depth=None,\n",
       "            max_features=None, max_leaf_nodes=None,\n",
       "            min_impurity_decrease=0.0, min_impurity_split=None,\n",
       "            min_samples_leaf=1, min_samples_split=2,\n",
       "            min_weight_fraction_leaf=0.0, presort=False, random_state=None,\n",
       "            splitter='best')"
      ]
     },
     "execution_count": 30,
     "metadata": {},
     "output_type": "execute_result"
    }
   ],
   "source": [
    "tree.fit(X_train_tv, y_train)"
   ]
  },
  {
   "cell_type": "code",
   "execution_count": 31,
   "metadata": {},
   "outputs": [
    {
     "data": {
      "text/plain": [
       "1.0"
      ]
     },
     "execution_count": 31,
     "metadata": {},
     "output_type": "execute_result"
    }
   ],
   "source": [
    "tree.score(X_train_tv, y_train)"
   ]
  },
  {
   "cell_type": "code",
   "execution_count": 32,
   "metadata": {},
   "outputs": [
    {
     "data": {
      "text/plain": [
       "0.8907922912205567"
      ]
     },
     "execution_count": 32,
     "metadata": {},
     "output_type": "execute_result"
    }
   ],
   "source": [
    "tree.score(X_test_tv, y_test)"
   ]
  },
  {
   "cell_type": "code",
   "execution_count": 33,
   "metadata": {},
   "outputs": [
    {
     "name": "stdout",
     "output_type": "stream",
     "text": [
      "Matrix Definition\n",
      "[['tn' 'fp']\n",
      " ['fn' 'tp']]\n",
      "\n",
      "Confusion Matrix\n",
      "[[186  34]\n",
      " [ 17 230]]\n",
      "\n",
      "METRICS\n",
      "accuracy: 0.8907922912205567\n",
      "misclass: 0.1092077087794433\n",
      "precision: 0.8712121212121212\n",
      "sensitivity: 0.9311740890688259\n",
      "specificity: 0.8454545454545455\n"
     ]
    }
   ],
   "source": [
    "get_metrics(y_test, tree.predict(X_test_tv))"
   ]
  },
  {
   "cell_type": "markdown",
   "metadata": {},
   "source": [
    "#### Decision trees predict which group a particular post falls into by learning simple classification rules inferred from the text data. The classification rules learned by this model often do not generalize to test data, the problem of overfitting mentioned earlier. Of the various models I tried in this project, decision tree was the most overfit and least accurate. When run on training data, this model was 100% accurate, however this accuracy fell to 89% on test data. This model made more errors misclassifying genetics posts as datascience posts rather than vice versa, making 34 of the former errors compared with just 17 of the latter."
   ]
  },
  {
   "cell_type": "markdown",
   "metadata": {},
   "source": [
    "# Random Forest"
   ]
  },
  {
   "cell_type": "code",
   "execution_count": 34,
   "metadata": {},
   "outputs": [],
   "source": [
    "from sklearn.ensemble import RandomForestClassifier"
   ]
  },
  {
   "cell_type": "code",
   "execution_count": 35,
   "metadata": {},
   "outputs": [],
   "source": [
    "rf = RandomForestClassifier()"
   ]
  },
  {
   "cell_type": "code",
   "execution_count": 36,
   "metadata": {},
   "outputs": [
    {
     "data": {
      "text/plain": [
       "RandomForestClassifier(bootstrap=True, class_weight=None, criterion='gini',\n",
       "            max_depth=None, max_features='auto', max_leaf_nodes=None,\n",
       "            min_impurity_decrease=0.0, min_impurity_split=None,\n",
       "            min_samples_leaf=1, min_samples_split=2,\n",
       "            min_weight_fraction_leaf=0.0, n_estimators=10, n_jobs=1,\n",
       "            oob_score=False, random_state=None, verbose=0,\n",
       "            warm_start=False)"
      ]
     },
     "execution_count": 36,
     "metadata": {},
     "output_type": "execute_result"
    }
   ],
   "source": [
    "rf.fit(X_train_tv, y_train)"
   ]
  },
  {
   "cell_type": "code",
   "execution_count": 37,
   "metadata": {},
   "outputs": [
    {
     "data": {
      "text/plain": [
       "0.9992852037169406"
      ]
     },
     "execution_count": 37,
     "metadata": {},
     "output_type": "execute_result"
    }
   ],
   "source": [
    "rf.score(X_train_tv, y_train)"
   ]
  },
  {
   "cell_type": "code",
   "execution_count": 38,
   "metadata": {},
   "outputs": [
    {
     "data": {
      "text/plain": [
       "0.8950749464668094"
      ]
     },
     "execution_count": 38,
     "metadata": {},
     "output_type": "execute_result"
    }
   ],
   "source": [
    "rf.score(X_test_tv, y_test)"
   ]
  },
  {
   "cell_type": "code",
   "execution_count": 39,
   "metadata": {},
   "outputs": [
    {
     "name": "stdout",
     "output_type": "stream",
     "text": [
      "Matrix Definition\n",
      "[['tn' 'fp']\n",
      " ['fn' 'tp']]\n",
      "\n",
      "Confusion Matrix\n",
      "[[191  29]\n",
      " [ 20 227]]\n",
      "\n",
      "METRICS\n",
      "accuracy: 0.8950749464668094\n",
      "misclass: 0.1049250535331906\n",
      "precision: 0.88671875\n",
      "sensitivity: 0.9190283400809717\n",
      "specificity: 0.8681818181818182\n"
     ]
    }
   ],
   "source": [
    "get_metrics(y_test, rf.predict(X_test_tv))"
   ]
  },
  {
   "cell_type": "markdown",
   "metadata": {},
   "source": [
    "#### Taking a large group of decision trees and averaging as well as selecting random groups of features to use at each node of each decision tree, the technique used in random forests, is a good way to improve predictive accuracy and control for overfitting, at least in theory.  In this data sample, however, there was little or no difference between decision tree and random forests.  The train data accuracy fell an infinitesmal amount, from 100% to 99.9%, and the test data accuracy increased slightly, from 89.1% to 89.5%.  The errors tended to be greater across random splits misclassifying genetics posts as datascience posts, here misclassfying 29 posts this way compared to 20 posts misclassified the other way."
   ]
  },
  {
   "cell_type": "markdown",
   "metadata": {},
   "source": [
    "# Adaboost"
   ]
  },
  {
   "cell_type": "code",
   "execution_count": 40,
   "metadata": {},
   "outputs": [],
   "source": [
    "from sklearn.ensemble import AdaBoostClassifier"
   ]
  },
  {
   "cell_type": "code",
   "execution_count": 41,
   "metadata": {},
   "outputs": [],
   "source": [
    "ada = AdaBoostClassifier(n_estimators = )"
   ]
  },
  {
   "cell_type": "code",
   "execution_count": null,
   "metadata": {},
   "outputs": [],
   "source": [
    "gs = "
   ]
  },
  {
   "cell_type": "code",
   "execution_count": 42,
   "metadata": {},
   "outputs": [
    {
     "data": {
      "text/plain": [
       "AdaBoostClassifier(algorithm='SAMME.R', base_estimator=None,\n",
       "          learning_rate=1.0, n_estimators=50, random_state=None)"
      ]
     },
     "execution_count": 42,
     "metadata": {},
     "output_type": "execute_result"
    }
   ],
   "source": [
    "ada.fit(X_train_tv, y_train)"
   ]
  },
  {
   "cell_type": "code",
   "execution_count": 43,
   "metadata": {},
   "outputs": [
    {
     "data": {
      "text/plain": [
       "0.9599714081486777"
      ]
     },
     "execution_count": 43,
     "metadata": {},
     "output_type": "execute_result"
    }
   ],
   "source": [
    "ada.score(X_train_tv, y_train)"
   ]
  },
  {
   "cell_type": "code",
   "execution_count": 44,
   "metadata": {},
   "outputs": [
    {
     "data": {
      "text/plain": [
       "0.9036402569593148"
      ]
     },
     "execution_count": 44,
     "metadata": {},
     "output_type": "execute_result"
    }
   ],
   "source": [
    "ada.score(X_test_tv, y_test)"
   ]
  },
  {
   "cell_type": "code",
   "execution_count": 45,
   "metadata": {},
   "outputs": [
    {
     "name": "stdout",
     "output_type": "stream",
     "text": [
      "Matrix Definition\n",
      "[['tn' 'fp']\n",
      " ['fn' 'tp']]\n",
      "\n",
      "Confusion Matrix\n",
      "[[191  29]\n",
      " [ 16 231]]\n",
      "\n",
      "METRICS\n",
      "accuracy: 0.9036402569593148\n",
      "misclass: 0.09635974304068518\n",
      "precision: 0.8884615384615384\n",
      "sensitivity: 0.9352226720647774\n",
      "specificity: 0.8681818181818182\n"
     ]
    }
   ],
   "source": [
    "get_metrics(y_test, ada.predict(X_test_tv))"
   ]
  },
  {
   "cell_type": "markdown",
   "metadata": {},
   "source": [
    "#### Adaboost seems to do a better job at controlling for overfitting, at least than random forests, decreasing the accuracy of inferring training data with 96% compared to predicting testing data with 90% accuracy. That said, it is still inferior to logistic regression across all of the random splits that I ran in my analysis. There are more genetics posts misclassified as datascience posts (29) than vice versa (16)."
   ]
  },
  {
   "cell_type": "markdown",
   "metadata": {},
   "source": [
    "# Comparing Models"
   ]
  },
  {
   "cell_type": "markdown",
   "metadata": {},
   "source": [
    "|        Model        | Train Accuracy | Test Accuracy | Misclassification  Rate | Misclassified  as Datascience | Misclassified  as Genetics |\n",
    "|:-------------------:|----------------|---------------|-------------------------|-------------------------------|----------------------------|\n",
    "| Logistic Regression |          99.3% |         93.6% |                    6.4% |                            25 |                          5 |\n",
    "| K Nearest Neighbors |          96.6% |         92.5% |                    7.5% |                            19 |                         16 |\n",
    "|    Decision Tree    |         100.0% |         89.1% |                   10.9% |                            34 |                         17 |\n",
    "|    Random Forest    |          99.9% |         89.5% |                   10.5% |                            29 |                         20 |\n",
    "|       Adaboost      |          95.6% |         90.4% |                    9.6% |                            29 |                         16 |"
   ]
  },
  {
   "cell_type": "markdown",
   "metadata": {},
   "source": [
    "#### Note:  The above models have not undergone gridsearching or optimized in any other manner."
   ]
  },
  {
   "cell_type": "markdown",
   "metadata": {},
   "source": [
    "# Future Directions:"
   ]
  },
  {
   "cell_type": "code",
   "execution_count": null,
   "metadata": {},
   "outputs": [],
   "source": [
    "# GridSearch to tune hyperparameters:  save results to dataframe, for comparison"
   ]
  },
  {
   "cell_type": "code",
   "execution_count": 49,
   "metadata": {},
   "outputs": [],
   "source": [
    "# Present project as it stands as way to develop method of categorizing posts based upon\n",
    "# unique lexicons. Could be used to identify lexicons of groups to faciitate\n",
    "# cross-communication between specialists in different fields.\n",
    "\n",
    "# Consider using other features to improve predictive ability of models such as number of\n",
    "# comments, separating title to see if differences in title words alone is sufficient to\n",
    "# differentiate between subreddits; solicit discussion\n",
    "\n",
    "# Repeat analysis using just titles of posts to see how well models perform on a more limited\n",
    "# dataset. If there is success, another possible application would be to tweets from people\n",
    "# with different political leanings."
   ]
  },
  {
   "cell_type": "markdown",
   "metadata": {},
   "source": [
    "# DISCUSSION"
   ]
  },
  {
   "cell_type": "markdown",
   "metadata": {},
   "source": [
    "#### After running my data through five different models, the one with the best results on my train test split test data is the very first one I ran:  logistic regression.  The one model that might also be considered is K Nearest Neighbors; although it has a slightly lower R^2 score (0.942 compared to 0.986), it is the only model that had a test R^2 score that was lower than its corresponding train R^2 score, indicating the absense of overfitting. These models can still be optimized by tuning hyperparameters.\n",
    "\n",
    "#### As an additional check, I have tried using my models to analyze a different pair of subreddits (jokes and confessions) with good results; see parallel notebooks, 1.1., 2.1, and 3.1."
   ]
  },
  {
   "cell_type": "markdown",
   "metadata": {
    "nbpresent": {
     "id": "555770d5-7c76-4c2f-bb32-36a982729a3a"
    }
   },
   "source": [
    "# Executive Summary\n",
    "---\n",
    "Put your executive summary in a Markdown cell below."
   ]
  },
  {
   "cell_type": "markdown",
   "metadata": {
    "nbpresent": {
     "id": "d45158d7-9908-4ca1-bf80-95ed1013a20c"
    }
   },
   "source": [
    "#### After obtaining 1886 unique posts from two subreddits (datascience and genetics), I compared five basic models on their ability to distinguish between posts from the two subreddits on the basis of the words used in the posts. 75% of the data were used to train the models leaving out 25% to verify that the models were able to predict accurately. The most accurate model built was based on logistic regression (accuracy = 93.6%). Accuracies can be improved through grid search of hyperparameters."
   ]
  }
 ],
 "metadata": {
  "anaconda-cloud": {},
  "kernelspec": {
   "display_name": "Python [default]",
   "language": "python",
   "name": "python3"
  },
  "language_info": {
   "codemirror_mode": {
    "name": "ipython",
    "version": 3
   },
   "file_extension": ".py",
   "mimetype": "text/x-python",
   "name": "python",
   "nbconvert_exporter": "python",
   "pygments_lexer": "ipython3",
   "version": "3.6.4"
  },
  "varInspector": {
   "cols": {
    "lenName": 16,
    "lenType": 16,
    "lenVar": 40
   },
   "kernels_config": {
    "python": {
     "delete_cmd_postfix": "",
     "delete_cmd_prefix": "del ",
     "library": "var_list.py",
     "varRefreshCmd": "print(var_dic_list())"
    },
    "r": {
     "delete_cmd_postfix": ") ",
     "delete_cmd_prefix": "rm(",
     "library": "var_list.r",
     "varRefreshCmd": "cat(var_dic_list()) "
    }
   },
   "types_to_exclude": [
    "module",
    "function",
    "builtin_function_or_method",
    "instance",
    "_Feature"
   ],
   "window_display": false
  }
 },
 "nbformat": 4,
 "nbformat_minor": 1
}
